{
 "cells": [
  {
   "cell_type": "code",
   "execution_count": 2,
   "id": "a86fcef9",
   "metadata": {},
   "outputs": [],
   "source": [
    "import pandas as pd\n",
    "import wandb"
   ]
  },
  {
   "cell_type": "markdown",
   "id": "ff6e63b4",
   "metadata": {},
   "source": [
    "# Exploratory Data Analysis\n",
    "\n",
    "We run an EDA on the New York Airbnb property data to better understand the dataset. This versioning of this notebook will be uploaded to Weights and Biases - so make sure you're logged in prior to running this notebook"
   ]
  },
  {
   "cell_type": "code",
   "execution_count": 4,
   "id": "3d30dc21",
   "metadata": {},
   "outputs": [
    {
     "data": {
      "text/html": [
       "Finishing last run (ID:9xxgtode) before initializing another..."
      ],
      "text/plain": [
       "<IPython.core.display.HTML object>"
      ]
     },
     "metadata": {},
     "output_type": "display_data"
    },
    {
     "data": {
      "text/html": [
       "<br/>Waiting for W&B process to finish, PID 37471<br/>Program ended successfully."
      ],
      "text/plain": [
       "<IPython.core.display.HTML object>"
      ]
     },
     "metadata": {},
     "output_type": "display_data"
    },
    {
     "data": {
      "application/vnd.jupyter.widget-view+json": {
       "model_id": "",
       "version_major": 2,
       "version_minor": 0
      },
      "text/plain": [
       "VBox(children=(Label(value=' 0.00MB of 0.00MB uploaded (0.00MB deduped)\\r'), FloatProgress(value=1.0, max=1.0)…"
      ]
     },
     "metadata": {},
     "output_type": "display_data"
    },
    {
     "data": {
      "text/html": [
       "Find user logs for this run at: <code>/Users/briant/Documents/Udacity/MLOps Nanodegree/02_pipelines/nd0821-c2-build-model-workflow-starter/src/eda/wandb/run-20210726_220001-9xxgtode/logs/debug.log</code>"
      ],
      "text/plain": [
       "<IPython.core.display.HTML object>"
      ]
     },
     "metadata": {},
     "output_type": "display_data"
    },
    {
     "data": {
      "text/html": [
       "Find internal logs for this run at: <code>/Users/briant/Documents/Udacity/MLOps Nanodegree/02_pipelines/nd0821-c2-build-model-workflow-starter/src/eda/wandb/run-20210726_220001-9xxgtode/logs/debug-internal.log</code>"
      ],
      "text/plain": [
       "<IPython.core.display.HTML object>"
      ]
     },
     "metadata": {},
     "output_type": "display_data"
    },
    {
     "data": {
      "text/html": [
       "Synced 5 W&B file(s), 0 media file(s), 0 artifact file(s) and 0 other file(s)"
      ],
      "text/plain": [
       "<IPython.core.display.HTML object>"
      ]
     },
     "metadata": {},
     "output_type": "display_data"
    },
    {
     "data": {
      "text/html": [
       "\n",
       "                    <br/>Synced <strong style=\"color:#cdcd00\">effortless-fire-2</strong>: <a href=\"https://wandb.ai/ashrielbrian/nyc_airbnb/runs/9xxgtode\" target=\"_blank\">https://wandb.ai/ashrielbrian/nyc_airbnb/runs/9xxgtode</a><br/>\n",
       "                "
      ],
      "text/plain": [
       "<IPython.core.display.HTML object>"
      ]
     },
     "metadata": {},
     "output_type": "display_data"
    },
    {
     "data": {
      "text/html": [
       "...Successfully finished last run (ID:9xxgtode). Initializing new run:<br/><br/>"
      ],
      "text/plain": [
       "<IPython.core.display.HTML object>"
      ]
     },
     "metadata": {},
     "output_type": "display_data"
    },
    {
     "name": "stderr",
     "output_type": "stream",
     "text": [
      "\u001b[34m\u001b[1mwandb\u001b[0m: wandb version 0.11.0 is available!  To upgrade, please run:\n",
      "\u001b[34m\u001b[1mwandb\u001b[0m:  $ pip install wandb --upgrade\n"
     ]
    },
    {
     "data": {
      "text/html": [
       "\n",
       "                Tracking run with wandb version 0.10.31<br/>\n",
       "                Syncing run <strong style=\"color:#cdcd00\">twilight-blaze-3</strong> to <a href=\"https://wandb.ai\" target=\"_blank\">Weights & Biases</a> <a href=\"https://docs.wandb.com/integrations/jupyter.html\" target=\"_blank\">(Documentation)</a>.<br/>\n",
       "                Project page: <a href=\"https://wandb.ai/ashrielbrian/nyc_airbnb\" target=\"_blank\">https://wandb.ai/ashrielbrian/nyc_airbnb</a><br/>\n",
       "                Run page: <a href=\"https://wandb.ai/ashrielbrian/nyc_airbnb/runs/302mghp6\" target=\"_blank\">https://wandb.ai/ashrielbrian/nyc_airbnb/runs/302mghp6</a><br/>\n",
       "                Run data is saved locally in <code>/Users/briant/Documents/Udacity/MLOps Nanodegree/02_pipelines/nd0821-c2-build-model-workflow-starter/src/eda/wandb/run-20210726_220046-302mghp6</code><br/><br/>\n",
       "            "
      ],
      "text/plain": [
       "<IPython.core.display.HTML object>"
      ]
     },
     "metadata": {},
     "output_type": "display_data"
    }
   ],
   "source": [
    "run = wandb.init(project='nyc_airbnb', group='eda', save_code=True)\n",
    "local_path = run.use_artifact('sample.csv:latest').file()"
   ]
  },
  {
   "cell_type": "code",
   "execution_count": null,
   "id": "c32f6085",
   "metadata": {},
   "outputs": [],
   "source": [
    "df = pd.read_csv(local_path)\n",
    "df.head()"
   ]
  },
  {
   "cell_type": "code",
   "execution_count": 6,
   "id": "7ef510e2",
   "metadata": {},
   "outputs": [
    {
     "data": {
      "application/vnd.jupyter.widget-view+json": {
       "model_id": "d6a49b7de7f94b1bb40bd240fb016e8f",
       "version_major": 2,
       "version_minor": 0
      },
      "text/plain": [
       "Summarize dataset:   0%|          | 0/29 [00:00<?, ?it/s]"
      ]
     },
     "metadata": {},
     "output_type": "display_data"
    },
    {
     "data": {
      "application/vnd.jupyter.widget-view+json": {
       "model_id": "fb42d23de0e14ef6b3837681bf62a9e1",
       "version_major": 2,
       "version_minor": 0
      },
      "text/plain": [
       "Generate report structure:   0%|          | 0/1 [00:00<?, ?it/s]"
      ]
     },
     "metadata": {},
     "output_type": "display_data"
    },
    {
     "data": {
      "application/vnd.jupyter.widget-view+json": {
       "model_id": "",
       "version_major": 2,
       "version_minor": 0
      },
      "text/plain": [
       "Render widgets:   0%|          | 0/1 [00:00<?, ?it/s]"
      ]
     },
     "metadata": {},
     "output_type": "display_data"
    },
    {
     "data": {
      "application/vnd.jupyter.widget-view+json": {
       "model_id": "7cf7a4b091124c53a6b42477f5388d62",
       "version_major": 2,
       "version_minor": 0
      },
      "text/plain": [
       "VBox(children=(Tab(children=(Tab(children=(GridBox(children=(VBox(children=(GridspecLayout(children=(HTML(valu…"
      ]
     },
     "metadata": {},
     "output_type": "display_data"
    }
   ],
   "source": [
    "import pandas_profiling\n",
    "\n",
    "profile = pandas_profiling.ProfileReport(df)\n",
    "profile.to_widgets()"
   ]
  },
  {
   "cell_type": "markdown",
   "id": "53f087aa",
   "metadata": {},
   "source": [
    "## Simple cleaning\n",
    "\n",
    "We remove outliers and keep only records with prices between \\\\$10 - \\\\$350. Also, the `last_review` column is transformed into `datetime` type."
   ]
  },
  {
   "cell_type": "code",
   "execution_count": 11,
   "id": "ede8d9ec",
   "metadata": {},
   "outputs": [],
   "source": [
    "# remove outliers\n",
    "min_price = 10\n",
    "max_price = 350"
   ]
  },
  {
   "cell_type": "code",
   "execution_count": 12,
   "id": "2015b7e6",
   "metadata": {},
   "outputs": [],
   "source": [
    "idx = df.price.between(min_price, max_price)\n",
    "df['price'] = df[idx].copy()"
   ]
  },
  {
   "cell_type": "code",
   "execution_count": 13,
   "id": "92ceff18",
   "metadata": {},
   "outputs": [],
   "source": [
    "df['last_review'] = pd.to_datetime(df.last_review)"
   ]
  },
  {
   "cell_type": "code",
   "execution_count": 17,
   "id": "8aba5edb",
   "metadata": {},
   "outputs": [
    {
     "name": "stdout",
     "output_type": "stream",
     "text": [
      "<class 'pandas.core.frame.DataFrame'>\n",
      "RangeIndex: 20000 entries, 0 to 19999\n",
      "Data columns (total 16 columns):\n",
      " #   Column                          Non-Null Count  Dtype         \n",
      "---  ------                          --------------  -----         \n",
      " 0   id                              20000 non-null  int64         \n",
      " 1   name                            19993 non-null  object        \n",
      " 2   host_id                         20000 non-null  int64         \n",
      " 3   host_name                       19992 non-null  object        \n",
      " 4   neighbourhood_group             20000 non-null  object        \n",
      " 5   neighbourhood                   20000 non-null  object        \n",
      " 6   latitude                        20000 non-null  float64       \n",
      " 7   longitude                       20000 non-null  float64       \n",
      " 8   room_type                       20000 non-null  object        \n",
      " 9   price                           19001 non-null  object        \n",
      " 10  minimum_nights                  20000 non-null  int64         \n",
      " 11  number_of_reviews               20000 non-null  int64         \n",
      " 12  last_review                     15877 non-null  datetime64[ns]\n",
      " 13  reviews_per_month               15877 non-null  float64       \n",
      " 14  calculated_host_listings_count  20000 non-null  int64         \n",
      " 15  availability_365                20000 non-null  int64         \n",
      "dtypes: datetime64[ns](1), float64(3), int64(6), object(6)\n",
      "memory usage: 2.4+ MB\n"
     ]
    }
   ],
   "source": [
    "df.info()"
   ]
  },
  {
   "cell_type": "markdown",
   "id": "cc2b002d",
   "metadata": {},
   "source": [
    "Let's conclude the run here."
   ]
  },
  {
   "cell_type": "code",
   "execution_count": 18,
   "id": "26d64a40",
   "metadata": {},
   "outputs": [
    {
     "data": {
      "text/html": [
       "<br/>Waiting for W&B process to finish, PID 37490<br/>Program ended successfully."
      ],
      "text/plain": [
       "<IPython.core.display.HTML object>"
      ]
     },
     "metadata": {},
     "output_type": "display_data"
    },
    {
     "data": {
      "application/vnd.jupyter.widget-view+json": {
       "model_id": "",
       "version_major": 2,
       "version_minor": 0
      },
      "text/plain": [
       "VBox(children=(Label(value=' 0.00MB of 0.00MB uploaded (0.00MB deduped)\\r'), FloatProgress(value=1.0, max=1.0)…"
      ]
     },
     "metadata": {},
     "output_type": "display_data"
    },
    {
     "data": {
      "text/html": [
       "Find user logs for this run at: <code>/Users/briant/Documents/Udacity/MLOps Nanodegree/02_pipelines/nd0821-c2-build-model-workflow-starter/src/eda/wandb/run-20210726_220046-302mghp6/logs/debug.log</code>"
      ],
      "text/plain": [
       "<IPython.core.display.HTML object>"
      ]
     },
     "metadata": {},
     "output_type": "display_data"
    },
    {
     "data": {
      "text/html": [
       "Find internal logs for this run at: <code>/Users/briant/Documents/Udacity/MLOps Nanodegree/02_pipelines/nd0821-c2-build-model-workflow-starter/src/eda/wandb/run-20210726_220046-302mghp6/logs/debug-internal.log</code>"
      ],
      "text/plain": [
       "<IPython.core.display.HTML object>"
      ]
     },
     "metadata": {},
     "output_type": "display_data"
    },
    {
     "data": {
      "text/html": [
       "Synced 6 W&B file(s), 0 media file(s), 0 artifact file(s) and 0 other file(s)"
      ],
      "text/plain": [
       "<IPython.core.display.HTML object>"
      ]
     },
     "metadata": {},
     "output_type": "display_data"
    },
    {
     "data": {
      "text/html": [
       "\n",
       "                    <br/>Synced <strong style=\"color:#cdcd00\">twilight-blaze-3</strong>: <a href=\"https://wandb.ai/ashrielbrian/nyc_airbnb/runs/302mghp6\" target=\"_blank\">https://wandb.ai/ashrielbrian/nyc_airbnb/runs/302mghp6</a><br/>\n",
       "                "
      ],
      "text/plain": [
       "<IPython.core.display.HTML object>"
      ]
     },
     "metadata": {},
     "output_type": "display_data"
    }
   ],
   "source": [
    "run.finish()"
   ]
  },
  {
   "cell_type": "code",
   "execution_count": null,
   "id": "71181385",
   "metadata": {},
   "outputs": [],
   "source": []
  }
 ],
 "metadata": {
  "kernelspec": {
   "display_name": "Python 3 (ipykernel)",
   "language": "python",
   "name": "python3"
  },
  "language_info": {
   "codemirror_mode": {
    "name": "ipython",
    "version": 3
   },
   "file_extension": ".py",
   "mimetype": "text/x-python",
   "name": "python",
   "nbconvert_exporter": "python",
   "pygments_lexer": "ipython3",
   "version": "3.9.6"
  }
 },
 "nbformat": 4,
 "nbformat_minor": 5
}
